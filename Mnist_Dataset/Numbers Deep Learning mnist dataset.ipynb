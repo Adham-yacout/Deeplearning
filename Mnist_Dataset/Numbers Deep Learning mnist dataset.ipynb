{
 "cells": [
  {
   "cell_type": "code",
   "execution_count": 1,
   "id": "7eb03a19",
   "metadata": {
    "ExecuteTime": {
     "end_time": "2023-10-23T11:52:52.876518Z",
     "start_time": "2023-10-23T11:52:48.810183Z"
    }
   },
   "outputs": [],
   "source": [
    "import tensorflow as tf\n",
    "from tensorflow import keras\n",
    "import matplotlib.pyplot as plt\n",
    "%matplotlib inline\n",
    "import numpy as np"
   ]
  },
  {
   "cell_type": "code",
   "execution_count": 2,
   "id": "1cfd0867",
   "metadata": {
    "ExecuteTime": {
     "end_time": "2023-10-23T11:52:53.096054Z",
     "start_time": "2023-10-23T11:52:52.879723Z"
    }
   },
   "outputs": [],
   "source": [
    "(x_train,y_train),(x_test,y_test)=keras.datasets.mnist.load_data()"
   ]
  },
  {
   "cell_type": "code",
   "execution_count": 3,
   "id": "6fff678f",
   "metadata": {
    "ExecuteTime": {
     "end_time": "2023-10-23T11:52:53.103924Z",
     "start_time": "2023-10-23T11:52:53.096990Z"
    }
   },
   "outputs": [
    {
     "data": {
      "text/plain": [
       "60000"
      ]
     },
     "execution_count": 3,
     "metadata": {},
     "output_type": "execute_result"
    }
   ],
   "source": [
    "len(x_train)"
   ]
  },
  {
   "cell_type": "code",
   "execution_count": 4,
   "id": "5bf3c102",
   "metadata": {
    "ExecuteTime": {
     "end_time": "2023-10-23T11:52:53.110911Z",
     "start_time": "2023-10-23T11:52:53.104889Z"
    }
   },
   "outputs": [
    {
     "data": {
      "text/plain": [
       "(28, 28)"
      ]
     },
     "execution_count": 4,
     "metadata": {},
     "output_type": "execute_result"
    }
   ],
   "source": [
    "x_train[0].shape\n"
   ]
  },
  {
   "cell_type": "markdown",
   "id": "755c831e",
   "metadata": {
    "ExecuteTime": {
     "end_time": "2023-10-23T11:29:04.241691Z",
     "start_time": "2023-10-23T11:29:04.233083Z"
    }
   },
   "source": [
    "# 28 by 28 images "
   ]
  },
  {
   "cell_type": "code",
   "execution_count": 5,
   "id": "d5e61700",
   "metadata": {
    "ExecuteTime": {
     "end_time": "2023-10-23T11:52:53.265038Z",
     "start_time": "2023-10-23T11:52:53.111869Z"
    }
   },
   "outputs": [
    {
     "data": {
      "text/plain": [
       "<matplotlib.image.AxesImage at 0x2227e3a5130>"
      ]
     },
     "execution_count": 5,
     "metadata": {},
     "output_type": "execute_result"
    },
    {
     "data": {
      "image/png": "[encoded data removed]",
      "text/plain": [
       "<Figure size 480x480 with 1 Axes>"
      ]
     },
     "metadata": {},
     "output_type": "display_data"
    }
   ],
   "source": [
    "plt.matshow(x_train[0])"
   ]
  },
  {
   "cell_type": "code",
   "execution_count": 6,
   "id": "c16bddcb",
   "metadata": {
    "ExecuteTime": {
     "end_time": "2023-10-23T11:52:53.273009Z",
     "start_time": "2023-10-23T11:52:53.265998Z"
    }
   },
   "outputs": [
    {
     "data": {
      "text/plain": [
       "5"
      ]
     },
     "execution_count": 6,
     "metadata": {},
     "output_type": "execute_result"
    }
   ],
   "source": [
    "y_train[0]"
   ]
  },
  {
   "cell_type": "markdown",
   "id": "798c766d",
   "metadata": {},
   "source": [
    "# We need to reshape it from 2d array to 1d array"
   ]
  },
  {
   "cell_type": "code",
   "execution_count": 7,
   "id": "c77d4e79",
   "metadata": {
    "ExecuteTime": {
     "end_time": "2023-10-23T11:52:53.282333Z",
     "start_time": "2023-10-23T11:52:53.276350Z"
    }
   },
   "outputs": [
    {
     "data": {
      "text/plain": [
       "(60000, 28, 28)"
      ]
     },
     "execution_count": 7,
     "metadata": {},
     "output_type": "execute_result"
    }
   ],
   "source": [
    "x_train.shape"
   ]
  },
  {
   "cell_type": "code",
   "execution_count": 8,
   "id": "827d816f",
   "metadata": {
    "ExecuteTime": {
     "end_time": "2023-10-23T11:52:53.287307Z",
     "start_time": "2023-10-23T11:52:53.284352Z"
    }
   },
   "outputs": [],
   "source": [
    "x_trainflattened=x_train.reshape(len(x_train),28*28)\n"
   ]
  },
  {
   "cell_type": "code",
   "execution_count": 9,
   "id": "77962779",
   "metadata": {
    "ExecuteTime": {
     "end_time": "2023-10-23T11:52:53.295298Z",
     "start_time": "2023-10-23T11:52:53.289291Z"
    }
   },
   "outputs": [],
   "source": [
    "x_testflattened=x_test.reshape(len(x_test),28*28)"
   ]
  },
  {
   "cell_type": "code",
   "execution_count": 10,
   "id": "f8e540e8",
   "metadata": {
    "ExecuteTime": {
     "end_time": "2023-10-23T11:52:54.117833Z",
     "start_time": "2023-10-23T11:52:53.296271Z"
    }
   },
   "outputs": [],
   "source": [
    "from sklearn.preprocessing import MinMaxScaler\n",
    "\n",
    "# Initialize the MinMaxScaler\n",
    "scaler = MinMaxScaler()\n",
    "\n",
    "# Fit the scaler on the training data and transform it\n",
    "x_train_scaled = scaler.fit_transform(x_trainflattened)\n",
    "\n",
    "# You can also transform the test data using the same scaler\n",
    "x_test_scaled = scaler.transform(x_testflattened)\n"
   ]
  },
  {
   "cell_type": "code",
   "execution_count": 32,
   "id": "dc18bd50",
   "metadata": {
    "ExecuteTime": {
     "end_time": "2023-10-23T12:00:46.446572Z",
     "start_time": "2023-10-23T12:00:12.146707Z"
    }
   },
   "outputs": [
    {
     "name": "stdout",
     "output_type": "stream",
     "text": [
      "Epoch 1/10\n",
      "1875/1875 [==============================] - 4s 2ms/step - loss: 1.2526 - accuracy: 0.8648\n",
      "Epoch 2/10\n",
      "1875/1875 [==============================] - 3s 2ms/step - loss: 0.2314 - accuracy: 0.9349\n",
      "Epoch 3/10\n",
      "1875/1875 [==============================] - 3s 2ms/step - loss: 0.1703 - accuracy: 0.9510\n",
      "Epoch 4/10\n",
      "1875/1875 [==============================] - 3s 2ms/step - loss: 0.1429 - accuracy: 0.9595\n",
      "Epoch 5/10\n",
      "1875/1875 [==============================] - 3s 2ms/step - loss: 0.1308 - accuracy: 0.9640\n",
      "Epoch 6/10\n",
      "1875/1875 [==============================] - 3s 2ms/step - loss: 0.1132 - accuracy: 0.9680\n",
      "Epoch 7/10\n",
      "1875/1875 [==============================] - 3s 2ms/step - loss: 0.1047 - accuracy: 0.9718\n",
      "Epoch 8/10\n",
      "1875/1875 [==============================] - 3s 2ms/step - loss: 0.0917 - accuracy: 0.9754\n",
      "Epoch 9/10\n",
      "1875/1875 [==============================] - 3s 2ms/step - loss: 0.0885 - accuracy: 0.9770\n",
      "Epoch 10/10\n",
      "1875/1875 [==============================] - 3s 2ms/step - loss: 0.0781 - accuracy: 0.9799\n"
     ]
    },
    {
     "data": {
      "text/plain": [
       "<keras.callbacks.History at 0x222447b7250>"
      ]
     },
     "execution_count": 32,
     "metadata": {},
     "output_type": "execute_result"
    }
   ],
   "source": [
    "model=keras.Sequential([\n",
    "    keras.layers.Flatten(input_shape=(28,28)),\n",
    "    keras.layers.Dense(200,activation='relu'),\n",
    "    keras.layers.Dense(100,activation='relu'),\n",
    "      keras.layers.Dense(10,activation='sigmoid'),\n",
    "])\n",
    "model.compile(optimizer='adam',loss='sparse_categorical_crossentropy',\n",
    "             metrics=['accuracy'])\n",
    "model.fit(x_train,y_train,epochs=10)"
   ]
  },
  {
   "cell_type": "code",
   "execution_count": 33,
   "id": "34ab13d1",
   "metadata": {
    "ExecuteTime": {
     "end_time": "2023-10-23T12:00:48.582535Z",
     "start_time": "2023-10-23T12:00:48.029561Z"
    }
   },
   "outputs": [
    {
     "name": "stdout",
     "output_type": "stream",
     "text": [
      "313/313 [==============================] - 1s 1ms/step - loss: 0.1521 - accuracy: 0.9652\n"
     ]
    },
    {
     "data": {
      "text/plain": [
       "[0.15213258564472198, 0.9652000069618225]"
      ]
     },
     "execution_count": 33,
     "metadata": {},
     "output_type": "execute_result"
    }
   ],
   "source": [
    "model.evaluate(x_test,y_test)"
   ]
  },
  {
   "cell_type": "code",
   "execution_count": 34,
   "id": "7ab26309",
   "metadata": {
    "ExecuteTime": {
     "end_time": "2023-10-23T12:00:51.787081Z",
     "start_time": "2023-10-23T12:00:51.663902Z"
    }
   },
   "outputs": [
    {
     "data": {
      "text/plain": [
       "<matplotlib.image.AxesImage at 0x22244cc9fa0>"
      ]
     },
     "execution_count": 34,
     "metadata": {},
     "output_type": "execute_result"
    },
    {
     "data": {
      "image/png": "[encoded data removed]",
      "text/plain": [
       "<Figure size 480x480 with 1 Axes>"
      ]
     },
     "metadata": {},
     "output_type": "display_data"
    }
   ],
   "source": [
    "plt.matshow(x_test[0])"
   ]
  },
  {
   "cell_type": "code",
   "execution_count": 37,
   "id": "e17ac251",
   "metadata": {
    "ExecuteTime": {
     "end_time": "2023-10-23T12:01:03.093755Z",
     "start_time": "2023-10-23T12:01:02.598887Z"
    }
   },
   "outputs": [
    {
     "name": "stdout",
     "output_type": "stream",
     "text": [
      "313/313 [==============================] - 0s 1ms/step\n"
     ]
    }
   ],
   "source": [
    "y_predicted=model.predict(x_test)\n"
   ]
  },
  {
   "cell_type": "code",
   "execution_count": 38,
   "id": "2c78f06b",
   "metadata": {
    "ExecuteTime": {
     "end_time": "2023-10-23T12:01:04.447147Z",
     "start_time": "2023-10-23T12:01:04.440005Z"
    }
   },
   "outputs": [
    {
     "data": {
      "text/plain": [
       "7"
      ]
     },
     "execution_count": 38,
     "metadata": {},
     "output_type": "execute_result"
    }
   ],
   "source": [
    "np.argmax(y_predicted[0])"
   ]
  },
  {
   "cell_type": "code",
   "execution_count": 39,
   "id": "c53e3e9e",
   "metadata": {
    "ExecuteTime": {
     "end_time": "2023-10-23T12:01:06.577225Z",
     "start_time": "2023-10-23T12:01:06.544021Z"
    }
   },
   "outputs": [],
   "source": [
    "y_predicted_labels=[np.argmax(i) for i in y_predicted]\n",
    "cm=tf.math.confusion_matrix(labels=y_test,predictions=y_predicted_labels)"
   ]
  },
  {
   "cell_type": "code",
   "execution_count": 19,
   "id": "542c0791",
   "metadata": {
    "ExecuteTime": {
     "end_time": "2023-10-23T11:55:27.891036Z",
     "start_time": "2023-10-23T11:55:27.432862Z"
    }
   },
   "outputs": [
    {
     "data": {
      "text/plain": [
       "Text(95.72222222222221, 0.5, 'Truth')"
      ]
     },
     "execution_count": 19,
     "metadata": {},
     "output_type": "execute_result"
    },
    {
     "data": {
      "image/png": "[encoded data removed]",
      "text/plain": [
       "<Figure size 1000x700 with 2 Axes>"
      ]
     },
     "metadata": {},
     "output_type": "display_data"
    }
   ],
   "source": [
    "import seaborn as sn\n",
    "plt.figure(figsize=(10,7))\n",
    "sn.heatmap(cm,annot=True,fmt='d')\n",
    "plt.xlabel('Predicted')\n",
    "plt.ylabel('Truth')"
   ]
  },
  {
   "cell_type": "code",
   "execution_count": 40,
   "id": "6618e014",
   "metadata": {
    "ExecuteTime": {
     "end_time": "2023-10-23T12:02:29.404287Z",
     "start_time": "2023-10-23T12:02:29.358802Z"
    }
   },
   "outputs": [],
   "source": [
    "model.save(\"my_model.h5\")"
   ]
  },
  {
   "cell_type": "code",
   "execution_count": null,
   "id": "04d99df8",
   "metadata": {},
   "outputs": [],
   "source": []
  }
 ],
 "metadata": {
  "hide_input": false,
  "kernelspec": {
   "display_name": "Python 3 (ipykernel)",
   "language": "python",
   "name": "python3"
  },
  "language_info": {
   "codemirror_mode": {
    "name": "ipython",
    "version": 3
   },
   "file_extension": ".py",
   "mimetype": "text/x-python",
   "name": "python",
   "nbconvert_exporter": "python",
   "pygments_lexer": "ipython3",
   "version": "3.9.13"
  },
  "nbTranslate": {
   "displayLangs": [
    "*"
   ],
   "hotkey": "alt-t",
   "langInMainMenu": true,
   "sourceLang": "en",
   "targetLang": "fr",
   "useGoogleTranslate": true
  },
  "varInspector": {
   "cols": {
    "lenName": 16,
    "lenType": 16,
    "lenVar": 40
   },
   "kernels_config": {
    "python": {
     "delete_cmd_postfix": "",
     "delete_cmd_prefix": "del ",
     "library": "var_list.py",
     "varRefreshCmd": "print(var_dic_list())"
    },
    "r": {
     "delete_cmd_postfix": ") ",
     "delete_cmd_prefix": "rm(",
     "library": "var_list.r",
     "varRefreshCmd": "cat(var_dic_list()) "
    }
   },
   "types_to_exclude": [
    "module",
    "function",
    "builtin_function_or_method",
    "instance",
    "_Feature"
   ],
   "window_display": false
  }
 },
 "nbformat": 4,
 "nbformat_minor": 5
}
